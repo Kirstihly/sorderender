{
 "cells": [
  {
   "cell_type": "code",
   "execution_count": 1,
   "id": "315a755d",
   "metadata": {},
   "outputs": [],
   "source": [
    "import cv2, glob, os, shutil\n",
    "import numpy as np"
   ]
  },
  {
   "cell_type": "code",
   "execution_count": 2,
   "id": "fec25b88",
   "metadata": {},
   "outputs": [],
   "source": [
    "data_dir = '/home/leyinghu/Documents/data/smplx_blender_addon_300_20220623/1000/SMPLX-male_Compose_color_nolights'\n",
    "data_name = 'example_dome_worker'\n",
    "cam_name = 'camera_00'\n",
    "output_dir = '/home/leyinghu/Documents/sorderender/data/male/image_mask/test'\n",
    "resize = -1"
   ]
  },
  {
   "cell_type": "code",
   "execution_count": 3,
   "id": "d6a8473f",
   "metadata": {},
   "outputs": [],
   "source": [
    "# INPUT\n",
    "rgba_dir = os.path.join(data_dir, data_name, 'rgba', cam_name)\n",
    "mask_dir = os.path.join(data_dir, data_name, 'mask', cam_name)\n",
    "# OUTPUT\n",
    "images_dir = os.path.join(output_dir, 'images')\n",
    "os.makedirs(images_dir, exist_ok=True)\n",
    "masks_dir = os.path.join(output_dir, 'masks')\n",
    "os.makedirs(masks_dir, exist_ok=True)"
   ]
  },
  {
   "cell_type": "code",
   "execution_count": 4,
   "id": "40c96ed1",
   "metadata": {},
   "outputs": [],
   "source": [
    "rgbas = glob.glob(os.path.join(rgba_dir, 'rgba_*.png'))\n",
    "rgbas.sort()\n",
    "assert len(rgbas) > 0\n",
    "\n",
    "masks = glob.glob(os.path.join(mask_dir, 'segmentation_*.png'))\n",
    "masks.sort()\n",
    "assert len(rgbas) == len(masks)"
   ]
  },
  {
   "cell_type": "code",
   "execution_count": 5,
   "id": "e589a3cc",
   "metadata": {},
   "outputs": [],
   "source": [
    "for i in range(len(rgbas)):\n",
    "    image_path = os.path.join(images_dir, cam_name+'_'+os.path.basename(rgbas[i]))\n",
    "    if resize == -1:\n",
    "        shutil.copyfile(rgbas[i], image_path)\n",
    "    else:\n",
    "        img = cv2.imread(rgbas[i], cv2.IMREAD_UNCHANGED)\n",
    "        resized = cv2.resize(img, (resize, resize))\n",
    "        cv2.imwrite(image_path, resized)\n",
    "    \n",
    "    mask_path = os.path.join(masks_dir, cam_name+'_'+os.path.basename(rgbas[i])) # Same basename as rgba\n",
    "    if resize == -1:\n",
    "        shutil.copyfile(masks[i], mask_path)\n",
    "    else:\n",
    "        img = cv2.imread(masks[i], cv2.IMREAD_UNCHANGED)\n",
    "        resized = cv2.resize(img, (resize, resize))\n",
    "        cv2.imwrite(mask_path, resized)"
   ]
  }
 ],
 "metadata": {
  "kernelspec": {
   "display_name": "Python 3 (ipykernel)",
   "language": "python",
   "name": "python3"
  },
  "language_info": {
   "codemirror_mode": {
    "name": "ipython",
    "version": 3
   },
   "file_extension": ".py",
   "mimetype": "text/x-python",
   "name": "python",
   "nbconvert_exporter": "python",
   "pygments_lexer": "ipython3",
   "version": "3.8.10"
  }
 },
 "nbformat": 4,
 "nbformat_minor": 5
}
