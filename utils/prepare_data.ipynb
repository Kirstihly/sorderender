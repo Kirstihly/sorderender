{
 "cells": [
  {
   "cell_type": "code",
   "execution_count": 1,
   "id": "1d6ebd74",
   "metadata": {},
   "outputs": [],
   "source": [
    "import cv2, glob, os, shutil\n",
    "import numpy as np"
   ]
  },
  {
   "cell_type": "code",
   "execution_count": 2,
   "id": "651fea03",
   "metadata": {},
   "outputs": [],
   "source": [
    "data_dir = '/home/leyinghu/Documents/data/smplx_blender_addon_300_20220623/1000/SMPLX-male_Compose_color_nolights'\n",
    "data_name = 'example_dome_worker'\n",
    "cam_name = 'camera_00'\n",
    "output_dir = '/home/leyinghu/Documents/sorderender/data/male/image_mask/test'"
   ]
  },
  {
   "cell_type": "code",
   "execution_count": 3,
   "id": "4fc7e934",
   "metadata": {},
   "outputs": [],
   "source": [
    "# INPUT\n",
    "rgba_dir = os.path.join(data_dir, data_name, 'rgba', cam_name)\n",
    "mask_dir = os.path.join(data_dir, data_name, 'mask', cam_name)\n",
    "# OUTPUT\n",
    "images_dir = os.path.join(output_dir, 'images')\n",
    "os.makedirs(images_dir, exist_ok=True)\n",
    "masks_dir = os.path.join(output_dir, 'masks')\n",
    "os.makedirs(masks_dir, exist_ok=True)"
   ]
  },
  {
   "cell_type": "code",
   "execution_count": 4,
   "id": "d466f3d4",
   "metadata": {},
   "outputs": [],
   "source": [
    "rgbas = glob.glob(os.path.join(rgba_dir, 'rgba_*.png'))\n",
    "rgbas.sort()\n",
    "assert len(rgbas) > 0\n",
    "\n",
    "masks = glob.glob(os.path.join(mask_dir, 'segmentation*.png'))\n",
    "masks.sort()\n",
    "assert len(rgbas) == len(masks)"
   ]
  },
  {
   "cell_type": "code",
   "execution_count": 5,
   "id": "2492c401",
   "metadata": {},
   "outputs": [],
   "source": [
    "for i in range(len(rgbas)):\n",
    "    image_path = os.path.join(images_dir, cam_name+'_'+os.path.basename(rgbas[i]))\n",
    "    shutil.copyfile(rgbas[i], image_path)\n",
    "    \n",
    "    mask_path = os.path.join(masks_dir, cam_name+'_'+os.path.basename(masks[i]))\n",
    "    shutil.copyfile(masks[i], mask_path)\n"
   ]
  }
 ],
 "metadata": {
  "kernelspec": {
   "display_name": "Python 3 (ipykernel)",
   "language": "python",
   "name": "python3"
  },
  "language_info": {
   "codemirror_mode": {
    "name": "ipython",
    "version": 3
   },
   "file_extension": ".py",
   "mimetype": "text/x-python",
   "name": "python",
   "nbconvert_exporter": "python",
   "pygments_lexer": "ipython3",
   "version": "3.8.10"
  }
 },
 "nbformat": 4,
 "nbformat_minor": 5
}
